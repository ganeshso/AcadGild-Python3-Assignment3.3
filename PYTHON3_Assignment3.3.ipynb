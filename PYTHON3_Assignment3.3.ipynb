{
 "cells": [
  {
   "cell_type": "markdown",
   "metadata": {},
   "source": [
    "## Implement a function longestWord() that takes a list of words and returns the longest one."
   ]
  },
  {
   "cell_type": "code",
   "execution_count": 12,
   "metadata": {},
   "outputs": [
    {
     "name": "stdout",
     "output_type": "stream",
     "text": [
      "Longest  word is ' three ', has 5 characters \n"
     ]
    }
   ],
   "source": [
    "\n",
    "def longestWord(words):\n",
    "    l = len(words[0])\n",
    "    #print(l)\n",
    "    long_word = words[0]\n",
    "    for word in words:\n",
    "       # print(\"{} - {}\".format(len(word), word) )\n",
    "        if(len(word) > l):\n",
    "            l= len(word)\n",
    "            long_word = word\n",
    "    return long_word\n",
    "    \n",
    "\n",
    "    \n",
    "string = input(\"Enter the words :\")\n",
    "words_list = string.split()\n",
    "\n",
    "# using functions\n",
    "longest_word = longestWord(words_list)\n",
    "print(\"Longest  word is ' {} ', has {} characters \".format(longest_word,len(longest_word)))\n",
    "\n",
    "\n",
    "\n",
    "\n"
   ]
  },
  {
   "cell_type": "code",
   "execution_count": 13,
   "metadata": {},
   "outputs": [
    {
     "name": "stdout",
     "output_type": "stream",
     "text": [
      "Longest  word is ' three ', has 5 characters \n"
     ]
    }
   ],
   "source": [
    "def LargestWordCount(a,b):\n",
    "    if len(a) > len(b):\n",
    "        return a\n",
    "    else:\n",
    "        return b\n",
    "    \n",
    "string = input(\"Enter the words :\")\n",
    "words_list = string.split()    \n",
    "    \n",
    "## using reduce method\n",
    "from functools import reduce\n",
    "r = reduce(LargestWordCount,words_list)\n",
    "print(\"Longest  word is ' {} ', has {} characters \".format(r,len(r)))\n",
    "\n",
    "\n",
    "\n",
    "\n"
   ]
  },
  {
   "cell_type": "code",
   "execution_count": null,
   "metadata": {},
   "outputs": [],
   "source": []
  }
 ],
 "metadata": {
  "kernelspec": {
   "display_name": "Python 3",
   "language": "python",
   "name": "python3"
  },
  "language_info": {
   "codemirror_mode": {
    "name": "ipython",
    "version": 3
   },
   "file_extension": ".py",
   "mimetype": "text/x-python",
   "name": "python",
   "nbconvert_exporter": "python",
   "pygments_lexer": "ipython3",
   "version": "3.6.4"
  }
 },
 "nbformat": 4,
 "nbformat_minor": 2
}
